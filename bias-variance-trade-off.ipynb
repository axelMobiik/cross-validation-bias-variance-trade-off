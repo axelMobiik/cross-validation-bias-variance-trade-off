{
 "cells": [
  {
   "cell_type": "markdown",
   "id": "3c2774b4-cc39-44aa-aaac-04db6b7690eb",
   "metadata": {},
   "source": [
    "<h1>Bias Variance Trafe-Off</h1>\n",
    "<p>\n",
    "    Bias Variance Trade Off is a fundamental topic of understanding your model's performance!\n",
    "    <br>Review Chapter 2 of <strong>Introduction to Statistical Learning</strong> for a more in depth look!\n",
    "</p>\n",
    "<p>\n",
    "    The bias-variance trade-off is the point where we are adding just noise by adding model complexity (flexibility).\n",
    "    <br>The training error goes down as it has to, but the test error is starting to go up\n",
    "    <br>The model after the bias trade-off begins to overfit\n",
    "</p>\n",
    "<p>\n",
    "    Imagine that the center of the target is a model that perfectly predicts the correct values.\n",
    "    <br>As we move away from the bulls-eye, our predictions get worse and worse.\n",
    "    <br>Imagine we can repeat our entire model building process to get a number of separate hits on the target.\n",
    "    <br>Each hit represents an individual realization of our model, given the chance variability in the training data we gather\n",
    "    <br>Sometimes we will get a good distribution of training data so we predict very well and we are close to the bulls-eye, while sometimes our training data might be full of outliers or non-standard values resulting in poorer predictions.\n",
    "    <br>These different realizations result in a scatter of hits on the target\n",
    "</p>\n",
    "<p>\n",
    "    A common temptation for beginners is to continually add complexity to a model until it fits the training set very well\n",
    "    <br>Doing this can cause a model to overfit to your training data and cause large errors on new data, such as the test set\n",
    "    <br>\n",
    "</p>"
   ]
  },
  {
   "cell_type": "code",
   "execution_count": null,
   "id": "662f7e90-2da5-48ff-b698-2967e1129903",
   "metadata": {},
   "outputs": [],
   "source": []
  }
 ],
 "metadata": {
  "kernelspec": {
   "display_name": "Python 3 (ipykernel)",
   "language": "python",
   "name": "python3"
  },
  "language_info": {
   "codemirror_mode": {
    "name": "ipython",
    "version": 3
   },
   "file_extension": ".py",
   "mimetype": "text/x-python",
   "name": "python",
   "nbconvert_exporter": "python",
   "pygments_lexer": "ipython3",
   "version": "3.11.7"
  }
 },
 "nbformat": 4,
 "nbformat_minor": 5
}
